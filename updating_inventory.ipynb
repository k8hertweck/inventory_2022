{
    "nbformat": 4,
    "nbformat_minor": 0,
    "metadata": {
        "colab": {
            "name": "updating_inventory.ipynb",
            "provenance": [],
            "collapsed_sections": [],
            "authorship_tag": "ABX9TyOvOzfGI0SpifanGERT29SA"
        },
        "kernelspec": {
            "name": "python3",
            "display_name": "Python 3"
        },
        "language_info": {
            "name": "python"
        },
        "accelerator": "GPU"
    },
    "cells": [
        {
            "cell_type": "markdown",
            "source": [
                "# Updating the Inventory\n",
                "---\n",
                "This notebook will provide the code necessary to perform an update to the Biodata Resource Inventory, using trained models.\n",
                "\n",
                "The steps include:\n",
                "* Run new query on EuropePMC\n",
                "* Classify new articles\n",
                "* Run NER to get resource names for predicted positives\n",
                "* Get URLs for predicted positives\n",
                "* Gather other metadata\n",
                "\n",
                "\n",
                "\n",
                "# Setup\n",
                "---\n",
                "### Mount Drive\n",
                "\n",
                "First, mount Google Drive to have access to files necessary for the run:\n"
            ],
            "metadata": {
                "id": "x4whPVjZZa7x"
            }
        },
        {
            "cell_type": "code",
            "execution_count": null,
            "metadata": {
                "id": "BmwESzXcjXTb"
            },
            "outputs": [],
            "source": [
                "from google.colab import drive\n",
                "drive.mount('/content/drive')\n",
                "%cd /content/drive/MyDrive/GitHub/inventory_2022/"
            ]
        },
        {
            "cell_type": "markdown",
            "source": [
                "Run the make target to install Python dependencies."
            ],
            "metadata": {
                "id": "6a7pMnIVbKXE"
            }
        },
        {
            "cell_type": "code",
            "source": [
                "! make setup"
            ],
            "metadata": {
                "id": "iBMUW3C0YIz4"
            },
            "execution_count": null,
            "outputs": []
        },
        {
            "cell_type": "markdown",
            "source": [
                "If you need to download the model checkpoints for the best classifier and NER models, run the cell below. If the `train_and_predict` pipeline was run, then the models are already present."
            ],
            "metadata": {
                "id": "UleWUNAcqoL-"
            }
        },
        {
            "cell_type": "code",
            "source": [
                "# Add command here for downloading models once they're archived"
            ],
            "metadata": {
                "id": "RcQ3mQhiqoi-"
            },
            "execution_count": null,
            "outputs": []
        },
        {
            "cell_type": "markdown",
            "source": [
                "# Running the pipeline\n",
                "---\n",
                "Now, we are ready to run the pipeline\n",
                "\n",
                "## Run it\n",
                "\n",
                "The following cell will run the pipeline described above. It may take a while, but GPU will speed it up a lot."
            ],
            "metadata": {
                "id": "XG8imhT0bms7"
            }
        },
        {
            "cell_type": "code",
            "source": [
                "! make update_inventory"
            ],
            "metadata": {
                "id": "zFSmOvuUnSPE"
            },
            "execution_count": null,
            "outputs": []
        }
    ]
}